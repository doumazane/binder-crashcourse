{
 "cells": [
  {
   "attachments": {},
   "cell_type": "markdown",
   "metadata": {},
   "source": [
    "## 👉 With Python, you can make requests to an API or scrape a webpage to extract useful information!"
   ]
  },
  {
   "attachments": {},
   "cell_type": "markdown",
   "metadata": {},
   "source": [
    "# 1️⃣ A small meteo app 🌤️"
   ]
  },
  {
   "cell_type": "code",
   "execution_count": 1,
   "metadata": {},
   "outputs": [],
   "source": [
    "import requests"
   ]
  },
  {
   "cell_type": "code",
   "execution_count": 2,
   "metadata": {},
   "outputs": [],
   "source": [
    "def get_coords(city):\n",
    "    url = f\"https://weather.lewagon.com/geo/1.0/direct?q={city}&limit=1\"\n",
    "    response = requests.get(url)\n",
    "    json_object = response.json()\n",
    "    latitude = json_object[0]['lat']\n",
    "    longitude = json_object[0]['lon']\n",
    "    return latitude, longitude"
   ]
  },
  {
   "cell_type": "code",
   "execution_count": 3,
   "metadata": {},
   "outputs": [
    {
     "data": {
      "text/plain": [
       "(46.2017559, 6.1466014)"
      ]
     },
     "execution_count": 3,
     "metadata": {},
     "output_type": "execute_result"
    }
   ],
   "source": [
    "get_coords(\"Genève\")"
   ]
  },
  {
   "cell_type": "code",
   "execution_count": 4,
   "metadata": {},
   "outputs": [],
   "source": [
    "def get_weather(lat, lon):\n",
    "    url = f\"https://weather.lewagon.com/data/2.5/weather?lat={lat}&lon={lon}\"\n",
    "    response = requests.get(url)\n",
    "    json_object = response.json()\n",
    "    weather = json_object['weather'][0]['description']\n",
    "    return weather"
   ]
  },
  {
   "cell_type": "code",
   "execution_count": 5,
   "metadata": {},
   "outputs": [
    {
     "data": {
      "text/plain": [
       "'few clouds'"
      ]
     },
     "execution_count": 5,
     "metadata": {},
     "output_type": "execute_result"
    }
   ],
   "source": [
    "get_weather(52.45, 0.2)"
   ]
  },
  {
   "cell_type": "code",
   "execution_count": 6,
   "metadata": {},
   "outputs": [],
   "source": [
    "def main():\n",
    "    city = input(\"\"\"\n",
    "City?\n",
    "> \"\"\")\n",
    "    latitude, longitude = get_coords(city)\n",
    "    weather = get_weather(latitude, longitude)\n",
    "    print(f\"\"\"\n",
    "The weather in {city} is {weather}!\"\"\")"
   ]
  },
  {
   "cell_type": "code",
   "execution_count": 7,
   "metadata": {},
   "outputs": [
    {
     "ename": "KeyError",
     "evalue": "0",
     "output_type": "error",
     "traceback": [
      "\u001b[0;31m---------------------------------------------------------------------------\u001b[0m",
      "\u001b[0;31mKeyError\u001b[0m                                  Traceback (most recent call last)",
      "\u001b[1;32m/Users/edmz/Downloads/TotalEnergies/binder-crashcourse/data_sourcing.ipynb Cell 9\u001b[0m in \u001b[0;36m1\n\u001b[0;32m----> <a href='vscode-notebook-cell:/Users/edmz/Downloads/TotalEnergies/binder-crashcourse/data_sourcing.ipynb#X32sZmlsZQ%3D%3D?line=0'>1</a>\u001b[0m main()\n",
      "\u001b[1;32m/Users/edmz/Downloads/TotalEnergies/binder-crashcourse/data_sourcing.ipynb Cell 9\u001b[0m in \u001b[0;36m5\n\u001b[1;32m      <a href='vscode-notebook-cell:/Users/edmz/Downloads/TotalEnergies/binder-crashcourse/data_sourcing.ipynb#X32sZmlsZQ%3D%3D?line=0'>1</a>\u001b[0m \u001b[39mdef\u001b[39;00m \u001b[39mmain\u001b[39m():\n\u001b[1;32m      <a href='vscode-notebook-cell:/Users/edmz/Downloads/TotalEnergies/binder-crashcourse/data_sourcing.ipynb#X32sZmlsZQ%3D%3D?line=1'>2</a>\u001b[0m     city \u001b[39m=\u001b[39m \u001b[39minput\u001b[39m(\u001b[39m\"\"\"\u001b[39m\n\u001b[1;32m      <a href='vscode-notebook-cell:/Users/edmz/Downloads/TotalEnergies/binder-crashcourse/data_sourcing.ipynb#X32sZmlsZQ%3D%3D?line=2'>3</a>\u001b[0m \u001b[39mCity?\u001b[39m\n\u001b[1;32m      <a href='vscode-notebook-cell:/Users/edmz/Downloads/TotalEnergies/binder-crashcourse/data_sourcing.ipynb#X32sZmlsZQ%3D%3D?line=3'>4</a>\u001b[0m \u001b[39m> \u001b[39m\u001b[39m\"\"\"\u001b[39m)\n\u001b[0;32m----> <a href='vscode-notebook-cell:/Users/edmz/Downloads/TotalEnergies/binder-crashcourse/data_sourcing.ipynb#X32sZmlsZQ%3D%3D?line=4'>5</a>\u001b[0m     latitude, longitude \u001b[39m=\u001b[39m get_coords(city)\n\u001b[1;32m      <a href='vscode-notebook-cell:/Users/edmz/Downloads/TotalEnergies/binder-crashcourse/data_sourcing.ipynb#X32sZmlsZQ%3D%3D?line=5'>6</a>\u001b[0m     weather \u001b[39m=\u001b[39m get_weather(latitude, longitude)\n\u001b[1;32m      <a href='vscode-notebook-cell:/Users/edmz/Downloads/TotalEnergies/binder-crashcourse/data_sourcing.ipynb#X32sZmlsZQ%3D%3D?line=6'>7</a>\u001b[0m     \u001b[39mprint\u001b[39m(\u001b[39mf\u001b[39m\u001b[39m\"\"\"\u001b[39m\n\u001b[1;32m      <a href='vscode-notebook-cell:/Users/edmz/Downloads/TotalEnergies/binder-crashcourse/data_sourcing.ipynb#X32sZmlsZQ%3D%3D?line=7'>8</a>\u001b[0m \u001b[39mThe weather in \u001b[39m\u001b[39m{\u001b[39;00mcity\u001b[39m}\u001b[39;00m\u001b[39m is \u001b[39m\u001b[39m{\u001b[39;00mweather\u001b[39m}\u001b[39;00m\u001b[39m!\u001b[39m\u001b[39m\"\"\"\u001b[39m)\n",
      "\u001b[1;32m/Users/edmz/Downloads/TotalEnergies/binder-crashcourse/data_sourcing.ipynb Cell 9\u001b[0m in \u001b[0;36m5\n\u001b[1;32m      <a href='vscode-notebook-cell:/Users/edmz/Downloads/TotalEnergies/binder-crashcourse/data_sourcing.ipynb#X32sZmlsZQ%3D%3D?line=2'>3</a>\u001b[0m response \u001b[39m=\u001b[39m requests\u001b[39m.\u001b[39mget(url)\n\u001b[1;32m      <a href='vscode-notebook-cell:/Users/edmz/Downloads/TotalEnergies/binder-crashcourse/data_sourcing.ipynb#X32sZmlsZQ%3D%3D?line=3'>4</a>\u001b[0m json_object \u001b[39m=\u001b[39m response\u001b[39m.\u001b[39mjson()\n\u001b[0;32m----> <a href='vscode-notebook-cell:/Users/edmz/Downloads/TotalEnergies/binder-crashcourse/data_sourcing.ipynb#X32sZmlsZQ%3D%3D?line=4'>5</a>\u001b[0m latitude \u001b[39m=\u001b[39m json_object[\u001b[39m0\u001b[39;49m][\u001b[39m'\u001b[39m\u001b[39mlat\u001b[39m\u001b[39m'\u001b[39m]\n\u001b[1;32m      <a href='vscode-notebook-cell:/Users/edmz/Downloads/TotalEnergies/binder-crashcourse/data_sourcing.ipynb#X32sZmlsZQ%3D%3D?line=5'>6</a>\u001b[0m longitude \u001b[39m=\u001b[39m json_object[\u001b[39m0\u001b[39m][\u001b[39m'\u001b[39m\u001b[39mlon\u001b[39m\u001b[39m'\u001b[39m]\n\u001b[1;32m      <a href='vscode-notebook-cell:/Users/edmz/Downloads/TotalEnergies/binder-crashcourse/data_sourcing.ipynb#X32sZmlsZQ%3D%3D?line=6'>7</a>\u001b[0m \u001b[39mreturn\u001b[39;00m latitude, longitude\n",
      "\u001b[0;31mKeyError\u001b[0m: 0"
     ]
    }
   ],
   "source": [
    "main()"
   ]
  },
  {
   "attachments": {},
   "cell_type": "markdown",
   "metadata": {},
   "source": [
    "# 2️⃣ Scrape a webpage to get data 📈\n",
    "https://companiesmarketcap.com/largest-companies-by-revenue/"
   ]
  },
  {
   "cell_type": "code",
   "execution_count": 7,
   "metadata": {},
   "outputs": [],
   "source": [
    "import requests\n",
    "from bs4 import BeautifulSoup\n",
    "import pandas as pd"
   ]
  },
  {
   "cell_type": "code",
   "execution_count": 67,
   "metadata": {},
   "outputs": [],
   "source": [
    "def get_data_from_page(i):\n",
    "    # 1. use interpolation to build the relevant URL\n",
    "    url = f\"https://companiesmarketcap.com/largest-companies-by-revenue/page/{i}/\"\n",
    "    \n",
    "    # 2. make a HTTP request and create a \"BeautifulSoup\" to parse the HTML code \n",
    "    soup = BeautifulSoup(requests.get(url).text)\n",
    "    \n",
    "    # 3. in the \"soup\", retrieve the information you need\n",
    "    company_names = [company.text.strip() for company in soup.find_all(class_=\"company-name\")]\n",
    "    company_ranks = [int(company.text.strip()) for company in soup.find_all(class_=\"rank-td td-right\")]\n",
    "    share_prices = [float(company.next.next.next.next.next.next.next.next.next.next.next.next\n",
    "        .text.replace(\"$\", \"\").replace(\",\", \".\").replace(\"B\", \"\").strip()) for company in soup.find_all(class_=\"rank-td td-right\")]\n",
    "    company_revenues = [float(company.next.next.next.next.next.next.next.next.next.next.next.next.next.next.next.text.replace(\"$\", \"\").replace(\",\", \".\").strip())\n",
    "        for company in soup.find_all(class_=\"rank-td td-right\")]\n",
    "    daily_variations = [float(company.text.replace(\",\", \".\").replace(\"%\", \"\").strip())\n",
    "        for company in soup.find_all(\"td\", class_=\"rh-sm\")]\n",
    "    \n",
    "    # 4. create the \"data\" dictionnary that will be returned\n",
    "    data = {}\n",
    "    data[\"company_name\"] = company_names\n",
    "    data[\"company_rank\"] = company_ranks\n",
    "    data[\"company_revenue\"] = company_revenues\n",
    "    data[\"share_price\"] = share_prices\n",
    "    data[\"daily_variation\"] = daily_variations\n",
    "    return data\n"
   ]
  },
  {
   "cell_type": "code",
   "execution_count": 68,
   "metadata": {},
   "outputs": [],
   "source": [
    "data = get_data_from_page(10)"
   ]
  },
  {
   "cell_type": "code",
   "execution_count": 69,
   "metadata": {},
   "outputs": [],
   "source": [
    "df = pd.DataFrame(data)"
   ]
  },
  {
   "cell_type": "code",
   "execution_count": 70,
   "metadata": {},
   "outputs": [
    {
     "data": {
      "text/html": [
       "<div>\n",
       "<style scoped>\n",
       "    .dataframe tbody tr th:only-of-type {\n",
       "        vertical-align: middle;\n",
       "    }\n",
       "\n",
       "    .dataframe tbody tr th {\n",
       "        vertical-align: top;\n",
       "    }\n",
       "\n",
       "    .dataframe thead th {\n",
       "        text-align: right;\n",
       "    }\n",
       "</style>\n",
       "<table border=\"1\" class=\"dataframe\">\n",
       "  <thead>\n",
       "    <tr style=\"text-align: right;\">\n",
       "      <th></th>\n",
       "      <th>company_name</th>\n",
       "      <th>company_rank</th>\n",
       "      <th>company_revenue</th>\n",
       "      <th>share_price</th>\n",
       "      <th>daily_variation</th>\n",
       "    </tr>\n",
       "  </thead>\n",
       "  <tbody>\n",
       "    <tr>\n",
       "      <th>0</th>\n",
       "      <td>Dupont De Nemours</td>\n",
       "      <td>901</td>\n",
       "      <td>70.44</td>\n",
       "      <td>12.76</td>\n",
       "      <td>0.83</td>\n",
       "    </tr>\n",
       "    <tr>\n",
       "      <th>1</th>\n",
       "      <td>Crown Holdings</td>\n",
       "      <td>902</td>\n",
       "      <td>83.80</td>\n",
       "      <td>12.75</td>\n",
       "      <td>0.54</td>\n",
       "    </tr>\n",
       "    <tr>\n",
       "      <th>2</th>\n",
       "      <td>BioNTech</td>\n",
       "      <td>903</td>\n",
       "      <td>108.97</td>\n",
       "      <td>12.71</td>\n",
       "      <td>0.40</td>\n",
       "    </tr>\n",
       "    <tr>\n",
       "      <th>3</th>\n",
       "      <td>Carvana</td>\n",
       "      <td>904</td>\n",
       "      <td>24.23</td>\n",
       "      <td>12.71</td>\n",
       "      <td>56.02</td>\n",
       "    </tr>\n",
       "    <tr>\n",
       "      <th>4</th>\n",
       "      <td>FirstEnergy</td>\n",
       "      <td>905</td>\n",
       "      <td>38.95</td>\n",
       "      <td>12.70</td>\n",
       "      <td>1.17</td>\n",
       "    </tr>\n",
       "    <tr>\n",
       "      <th>...</th>\n",
       "      <td>...</td>\n",
       "      <td>...</td>\n",
       "      <td>...</td>\n",
       "      <td>...</td>\n",
       "      <td>...</td>\n",
       "    </tr>\n",
       "    <tr>\n",
       "      <th>95</th>\n",
       "      <td>Bank Rakyat Indonesia</td>\n",
       "      <td>996</td>\n",
       "      <td>0.36</td>\n",
       "      <td>11.22</td>\n",
       "      <td>1.37</td>\n",
       "    </tr>\n",
       "    <tr>\n",
       "      <th>96</th>\n",
       "      <td>Korean Air Lines</td>\n",
       "      <td>997</td>\n",
       "      <td>21.81</td>\n",
       "      <td>11.21</td>\n",
       "      <td>0.52</td>\n",
       "    </tr>\n",
       "    <tr>\n",
       "      <th>97</th>\n",
       "      <td>W. R. Berkley</td>\n",
       "      <td>998</td>\n",
       "      <td>57.30</td>\n",
       "      <td>11.18</td>\n",
       "      <td>0.69</td>\n",
       "    </tr>\n",
       "    <tr>\n",
       "      <th>98</th>\n",
       "      <td>Pernod Ricard</td>\n",
       "      <td>999</td>\n",
       "      <td>213.03</td>\n",
       "      <td>11.17</td>\n",
       "      <td>0.25</td>\n",
       "    </tr>\n",
       "    <tr>\n",
       "      <th>99</th>\n",
       "      <td>Advance Auto Parts</td>\n",
       "      <td>1000</td>\n",
       "      <td>64.74</td>\n",
       "      <td>11.15</td>\n",
       "      <td>1.22</td>\n",
       "    </tr>\n",
       "  </tbody>\n",
       "</table>\n",
       "<p>100 rows × 5 columns</p>\n",
       "</div>"
      ],
      "text/plain": [
       "             company_name  company_rank  company_revenue  share_price  \\\n",
       "0       Dupont De Nemours           901            70.44        12.76   \n",
       "1          Crown Holdings           902            83.80        12.75   \n",
       "2                BioNTech           903           108.97        12.71   \n",
       "3                 Carvana           904            24.23        12.71   \n",
       "4             FirstEnergy           905            38.95        12.70   \n",
       "..                    ...           ...              ...          ...   \n",
       "95  Bank Rakyat Indonesia           996             0.36        11.22   \n",
       "96       Korean Air Lines           997            21.81        11.21   \n",
       "97          W. R. Berkley           998            57.30        11.18   \n",
       "98          Pernod Ricard           999           213.03        11.17   \n",
       "99     Advance Auto Parts          1000            64.74        11.15   \n",
       "\n",
       "    daily_variation  \n",
       "0              0.83  \n",
       "1              0.54  \n",
       "2              0.40  \n",
       "3             56.02  \n",
       "4              1.17  \n",
       "..              ...  \n",
       "95             1.37  \n",
       "96             0.52  \n",
       "97             0.69  \n",
       "98             0.25  \n",
       "99             1.22  \n",
       "\n",
       "[100 rows x 5 columns]"
      ]
     },
     "execution_count": 70,
     "metadata": {},
     "output_type": "execute_result"
    }
   ],
   "source": [
    "df"
   ]
  },
  {
   "cell_type": "code",
   "execution_count": 74,
   "metadata": {},
   "outputs": [
    {
     "data": {
      "text/plain": [
       "<AxesSubplot: xlabel='company_name'>"
      ]
     },
     "execution_count": 74,
     "metadata": {},
     "output_type": "execute_result"
    },
    {
     "data": {
      "image/png": "[encoded data removed]",
      "text/plain": [
       "<Figure size 640x480 with 1 Axes>"
      ]
     },
     "metadata": {},
     "output_type": "display_data"
    }
   ],
   "source": [
    "df.sample(5).plot.bar(x=\"company_name\", y=\"daily_variation\", rot=90)"
   ]
  }
 ],
 "metadata": {
  "kernelspec": {
   "display_name": "lewagon",
   "language": "python",
   "name": "python3"
  },
  "language_info": {
   "codemirror_mode": {
    "name": "ipython",
    "version": 3
   },
   "file_extension": ".py",
   "mimetype": "text/x-python",
   "name": "python",
   "nbconvert_exporter": "python",
   "pygments_lexer": "ipython3",
   "version": "3.10.6"
  },
  "orig_nbformat": 4
 },
 "nbformat": 4,
 "nbformat_minor": 2
}
