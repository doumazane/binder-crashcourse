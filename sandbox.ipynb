{
 "cells": [
  {
   "attachments": {},
   "cell_type": "markdown",
   "metadata": {},
   "source": [
    "### 📝 Use this notebook as a **sandbox**!\n",
    "\n",
    "#### 👉 To run a cell: `Shift` + `Enter` or `Ctrl` + `Enter`\n",
    "#### 👉 To add a new cell: hit the `+` button in the tool bar ⤴️ \n",
    "\n",
    "💡 Some other tips:\n",
    "- you can `double-click` on a word to select it\n",
    "- when a word or a block is selected, hit `\"` or `(` or `[` and see what happens!\n",
    "- `#` allows you to make a comment (-> the code after will be ignored)\n",
    "- try to learn one shortcut every day !"
   ]
  },
  {
   "cell_type": "code",
   "execution_count": null,
   "metadata": {},
   "outputs": [],
   "source": []
  },
  {
   "cell_type": "code",
   "execution_count": null,
   "metadata": {},
   "outputs": [],
   "source": []
  }
 ],
 "metadata": {
  "language_info": {
   "name": "python"
  },
  "orig_nbformat": 4
 },
 "nbformat": 4,
 "nbformat_minor": 2
}
