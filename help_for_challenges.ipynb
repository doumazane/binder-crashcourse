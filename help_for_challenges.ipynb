{
 "cells": [
  {
   "attachments": {},
   "cell_type": "markdown",
   "metadata": {},
   "source": [
    "#### This notebook provides you tips to master 3 challenges in your sprint:\n",
    "- the ***\"What is your name\"*** challenge\n",
    "- the ***\"Stupid coaching\"*** challenge \n",
    "- the ***\"FizzBuzz\"*** challenge"
   ]
  },
  {
   "attachments": {},
   "cell_type": "markdown",
   "metadata": {},
   "source": [
    "## 1️⃣ The ***\"What is your name\"*** challenge"
   ]
  },
  {
   "attachments": {},
   "cell_type": "markdown",
   "metadata": {},
   "source": [
    "Your goal 🎯 is to define a `function` that will pass all the tests in [the challenge in Learn](https://learn.lewagon.com/c/6631/b/16173).\n",
    "\n",
    "#### 💡 Reminders:\n",
    "##### - How do we define a function?\n",
    "```python\n",
    "def name_of_my_function(parameter_1, parameter_2, ...):\n",
    "    ## each line is an instruction\n",
    "    return the_output_of_my_function \n",
    "```\n",
    "Don't forget the colon (`:`) and the indentation, otherwise you will have a `SyntaxError`\n",
    "##### - What is concatenation of strings?\n",
    "```python\n",
    "\"hello\" + \" \" + \"world!\" #=> \"hello world!\"\n",
    "```\n",
    "##### - What is interpolation?\n",
    "```python\n",
    "f\"two: {1 + 1}\"          #=> \"two: 2\"\n",
    "```\n",
    "\n",
    "The steps to write your function are indicated in the following cell ⤵️\n",
    "\n",
    "You can use it as a sandbox!"
   ]
  },
  {
   "cell_type": "code",
   "execution_count": 3,
   "metadata": {},
   "outputs": [],
   "source": [
    "# Define a function named \"compute_name\" with 3 parameters: first_name, middle_name, last_name\n",
    "\n",
    "    # Return the required string using \"concatenation\" or \"interpolation\"\n"
   ]
  },
  {
   "attachments": {},
   "cell_type": "markdown",
   "metadata": {},
   "source": [
    "💡 You can test your function the following cells ⤵️\n",
    "\n",
    "If you haven't defined the function `compute_name` yet, this cell returns a `NameError`"
   ]
  },
  {
   "cell_type": "code",
   "execution_count": 1,
   "metadata": {},
   "outputs": [
    {
     "ename": "NameError",
     "evalue": "name 'compute_name' is not defined",
     "output_type": "error",
     "traceback": [
      "\u001b[0;31m---------------------------------------------------------------------------\u001b[0m",
      "\u001b[0;31mNameError\u001b[0m                                 Traceback (most recent call last)",
      "\u001b[1;32m/Users/edmz/Downloads/TotalEnergies/binder-crashcourse/help_for_challenges.ipynb Cell 3\u001b[0m in \u001b[0;36m3\n\u001b[1;32m      <a href='vscode-notebook-cell:/Users/edmz/Downloads/TotalEnergies/binder-crashcourse/help_for_challenges.ipynb#W1sZmlsZQ%3D%3D?line=0'>1</a>\u001b[0m \u001b[39m# Test your function in this cell:\u001b[39;00m\n\u001b[0;32m----> <a href='vscode-notebook-cell:/Users/edmz/Downloads/TotalEnergies/binder-crashcourse/help_for_challenges.ipynb#W1sZmlsZQ%3D%3D?line=2'>3</a>\u001b[0m compute_name(\u001b[39m\"\u001b[39m\u001b[39mJohn\u001b[39m\u001b[39m\"\u001b[39m, \u001b[39m\"\u001b[39m\u001b[39mFitzgerald\u001b[39m\u001b[39m\"\u001b[39m, \u001b[39m\"\u001b[39m\u001b[39mKennedy\u001b[39m\u001b[39m\"\u001b[39m)\n",
      "\u001b[0;31mNameError\u001b[0m: name 'compute_name' is not defined"
     ]
    }
   ],
   "source": [
    "compute_name(\"John\", \"Fitzgerald\", \"Kennedy\")"
   ]
  },
  {
   "cell_type": "code",
   "execution_count": null,
   "metadata": {},
   "outputs": [],
   "source": [
    "compute_name(\"Joseph\", \"Robinette\", \"Biden\")"
   ]
  },
  {
   "attachments": {},
   "cell_type": "markdown",
   "metadata": {},
   "source": [
    "Now you can **copy-paste** the definition of the function in [the challenge in Learn](https://learn.lewagon.com/c/6631/b/16173) and see if it passes the tests!"
   ]
  },
  {
   "attachments": {},
   "cell_type": "markdown",
   "metadata": {},
   "source": [
    "## 2️⃣ The ***\"Stupid coaching\"*** challenge"
   ]
  },
  {
   "attachments": {},
   "cell_type": "markdown",
   "metadata": {},
   "source": [
    "Your goal 🎯 is to define a `function` that will pass all the tests in [the challenge in Learn](https://learn.lewagon.com/c/6631/b/16174).\n",
    "\n",
    "#### 💡 Reminders:\n",
    "##### - How do you test the identity of two objects?\n",
    "```python\n",
    "\"hello\" == 'hello'     #=> True\n",
    "```\n",
    "##### - How do you use the keywords `if`, `elif` and `else`?\n",
    "```python\n",
    "if condition:\n",
    "  # executed when condition is truthy\n",
    "else:\n",
    "  # executed when condition is not truthy\n",
    "```\n",
    "##### - How do you use the keywords `if`, `elif` and `else`?\n",
    "```python\n",
    "if condition:\n",
    "  # ...\n",
    "elif other_condition:\n",
    "  # ...\n",
    "else:\n",
    "  # ...\n",
    "```\n",
    "\n",
    "#### 💡 Another tip\n",
    "```python\n",
    "\"Hi there\".endswith(\"e\")    #=> True\n",
    "```\n"
   ]
  },
  {
   "cell_type": "code",
   "execution_count": null,
   "metadata": {},
   "outputs": [],
   "source": [
    "# define a function named \"coach_answer\" with one parameter (prompt)\n",
    "\n",
    "    # if the prompt is identical to the \"right sentence\": return an empty string\n",
    "    \n",
    "    # if the prompt ends with a question mark: return \"Silly question etc.\"\n",
    "    \n",
    "    # in all other cases, return \"I don't care, etc.\"\n",
    "\n"
   ]
  },
  {
   "cell_type": "code",
   "execution_count": null,
   "metadata": {},
   "outputs": [],
   "source": [
    "# Test the function yourself:\n",
    "coach_answer(\"Hello coach!\")"
   ]
  },
  {
   "cell_type": "code",
   "execution_count": null,
   "metadata": {},
   "outputs": [],
   "source": [
    "coach_answer(\"I would love to eat some pizza!\")"
   ]
  },
  {
   "cell_type": "code",
   "execution_count": null,
   "metadata": {},
   "outputs": [],
   "source": [
    "coach_answer(\"Can I eat some pizza?\")"
   ]
  },
  {
   "cell_type": "code",
   "execution_count": null,
   "metadata": {},
   "outputs": [],
   "source": [
    "coach_answer( \"I am going to work right now!\" )"
   ]
  },
  {
   "attachments": {},
   "cell_type": "markdown",
   "metadata": {},
   "source": [
    "👏 Now you can **copy-paste** the definition of the function in [the challenge in Learn](https://learn.lewagon.com/c/6631/b/16174) and see if it passes the tests!\n",
    "\n",
    "Note that it will not pass the tests for `coach_answer_ennhanced` but it's ok, you've already done a lot!"
   ]
  },
  {
   "attachments": {},
   "cell_type": "markdown",
   "metadata": {},
   "source": [
    "## 3️⃣ The ***\"FizzBuzz\"*** challenge"
   ]
  },
  {
   "attachments": {},
   "cell_type": "markdown",
   "metadata": {},
   "source": [
    "Your goal 🎯 is to define a `function` that will pass all the tests in [the challenge in Learn](https://learn.lewagon.com/c/6631/b/16179).\n",
    "\n",
    "#### 💡 Reminders:\n",
    "##### - How do you write an \"empty list\"?\n",
    "```python\n",
    "empty_list = []                        # an empty list\n",
    "```\n",
    "##### - How do you append an element to a list?\n",
    "```python\n",
    "beatles = [\"john\", \"ringo\", \"george\"]\n",
    "beatles.append(\"paul\")\n",
    "print(beatles)    # => [\"john\", \"ringo\", \"george\", \"paul\"]\n",
    "```\n",
    "##### - How do you loop over a range of integers?\n",
    "```python\n",
    "for num in range(5):\n",
    "    print(num)\n",
    "#=> 0\n",
    "#=> 1\n",
    "#=> 2\n",
    "#=> 3\n",
    "#=> 4\n",
    "```\n",
    "\n",
    "#### 💡 Another tip:\n",
    "You can use the operator **modulo** `%` (the remainder after division) to test if an integer is **divisible** by another integer or not.\n",
    "```python\n",
    "4 % 2    #=> 0\n",
    "4 % 3    #=> 1\n",
    "if \"anything that is not 0 nor an empty string\": \n",
    "  # this is interpreted as True and the code is executed\n",
    "  return \"this will not be returned\"\n",
    "if 0: \n",
    "  # this is interpreted as False and the code is NOT executed\n",
    "  return \"this will not be returned\"\n",
    "```\n",
    "#### 💡 Yet another tip:\n",
    "Look carefully at this example:\n",
    " ```python\n",
    " for num in range(1, 3):\n",
    "    print(num)\n",
    "#=> 1\n",
    "#=> 2\n",
    " ```"
   ]
  },
  {
   "cell_type": "code",
   "execution_count": null,
   "metadata": {},
   "outputs": [],
   "source": [
    "# define a function named \"fizz_buzz\" with one parameter n\n",
    "def fizz_buzz(n):\n",
    "    # initiate an empty list that will be\n",
    "    answer = []\n",
    "    # loop over a range of integers that take all the values from 1 to n (included)\n",
    "    for i in range(1, n+1):\n",
    "        # if the integer is NOT divisible by 3, nor divisible by 5, then you can append it to your list\n",
    "        if i % 3 and i % 5:\n",
    "            answer.append(i)\n",
    "        # if the integer is NOT divisible by 3, then: append the relevant string\n",
    "        elif i % 3:\n",
    "            answer.append(\"Buzz\")\n",
    "        # if the integer is NOT divisible by 5, then: append the relevant string\n",
    "        elif i % 5:\n",
    "            answer.append(\"Fizz\")\n",
    "        # in all other cases, the integer is divisible by 3 and by 5, so: append the relevant string\n",
    "        else:\n",
    "            answer.append(\"FizzBuzz\")\n",
    "    # now you can return your list!\n",
    "    return answer"
   ]
  },
  {
   "cell_type": "code",
   "execution_count": null,
   "metadata": {},
   "outputs": [],
   "source": [
    "fizz_buzz(5)"
   ]
  },
  {
   "cell_type": "code",
   "execution_count": null,
   "metadata": {},
   "outputs": [],
   "source": [
    "for item in fizz_buzz(15):\n",
    "    print(item)"
   ]
  },
  {
   "attachments": {},
   "cell_type": "markdown",
   "metadata": {},
   "source": [
    "👏 Now you can **copy-paste** the definition of the function in [the challenge in Learn](https://learn.lewagon.com/c/6631/b/16179) and see if it passes the tests!"
   ]
  },
  {
   "attachments": {},
   "cell_type": "markdown",
   "metadata": {},
   "source": []
  }
 ],
 "metadata": {
  "kernelspec": {
   "display_name": "lewagon",
   "language": "python",
   "name": "python3"
  },
  "language_info": {
   "codemirror_mode": {
    "name": "ipython",
    "version": 3
   },
   "file_extension": ".py",
   "mimetype": "text/x-python",
   "name": "python",
   "nbconvert_exporter": "python",
   "pygments_lexer": "ipython3",
   "version": "3.10.6"
  },
  "orig_nbformat": 4
 },
 "nbformat": 4,
 "nbformat_minor": 2
}
